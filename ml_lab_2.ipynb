{
 "cells": [
  {
   "cell_type": "code",
   "execution_count": 1,
   "metadata": {
    "id": "9BmqyjYGb1OJ"
   },
   "outputs": [],
   "source": [
    "import tensorflow as tf\n",
    "from tensorflow.keras.datasets import mnist\n",
    "from tensorflow.keras.models import Sequential\n",
    "from tensorflow.keras.layers import Dense, Flatten\n",
    "from tensorflow.keras.utils import to_categorical\n",
    "from sklearn.metrics import accuracy_score, classification_report, confusion_matrix\n",
    "import numpy as np"
   ]
  },
  {
   "cell_type": "code",
   "execution_count": 2,
   "metadata": {
    "id": "GH60ebyfcW1-"
   },
   "outputs": [],
   "source": [
    "(x_train,y_train),(x_test,y_test) = mnist.load_data()\n",
    "#x_train = np.load('path/to/train.npy')\n",
    "\n",
    "x_train, x_test = x_train/255.0, x_test/255.0"
   ]
  },
  {
   "cell_type": "code",
   "execution_count": 3,
   "metadata": {
    "colab": {
     "base_uri": "https://localhost:8080/"
    },
    "id": "358n2CCmcuyJ",
    "outputId": "20d250bb-6a10-4ff6-be7e-4b97f7dd399c"
   },
   "outputs": [
    {
     "name": "stdout",
     "output_type": "stream",
     "text": [
      "Epoch 1/2\n"
     ]
    },
    {
     "name": "stderr",
     "output_type": "stream",
     "text": [
      "/Users/tharundv/miniconda3/envs/myenv/lib/python3.12/site-packages/keras/src/layers/reshaping/flatten.py:37: UserWarning: Do not pass an `input_shape`/`input_dim` argument to a layer. When using Sequential models, prefer using an `Input(shape)` object as the first layer in the model instead.\n",
      "  super().__init__(**kwargs)\n"
     ]
    },
    {
     "name": "stdout",
     "output_type": "stream",
     "text": [
      "\u001b[1m1200/1200\u001b[0m \u001b[32m━━━━━━━━━━━━━━━━━━━━\u001b[0m\u001b[37m\u001b[0m \u001b[1m2s\u001b[0m 1ms/step - accuracy: 0.8492 - loss: 0.5249 - val_accuracy: 0.9460 - val_loss: 0.1790\n",
      "Epoch 2/2\n",
      "\u001b[1m1200/1200\u001b[0m \u001b[32m━━━━━━━━━━━━━━━━━━━━\u001b[0m\u001b[37m\u001b[0m \u001b[1m1s\u001b[0m 1ms/step - accuracy: 0.9621 - loss: 0.1256 - val_accuracy: 0.9581 - val_loss: 0.1403\n"
     ]
    },
    {
     "data": {
      "text/plain": [
       "<keras.src.callbacks.history.History at 0x30924d6a0>"
      ]
     },
     "execution_count": 3,
     "metadata": {},
     "output_type": "execute_result"
    }
   ],
   "source": [
    "model = Sequential([\n",
    "    Flatten(input_shape=(28, 28)),\n",
    "    Dense(128, activation='relu'),\n",
    "    Dense(64, activation='relu'),\n",
    "    Dense(10, activation='softmax')\n",
    "])\n",
    "\n",
    "model.compile(optimizer='adam', loss='sparse_categorical_crossentropy', metrics=['accuracy'])\n",
    "model.fit(x_train[:48000], y_train[:48000], epochs=2, batch_size=32, validation_split=0.2)"
   ]
  },
  {
   "cell_type": "code",
   "execution_count": 4,
   "metadata": {
    "colab": {
     "base_uri": "https://localhost:8080/"
    },
    "id": "-oAkx2cGfpCH",
    "outputId": "7fec76c2-83c2-43be-c409-25744f7cd948"
   },
   "outputs": [
    {
     "name": "stdout",
     "output_type": "stream",
     "text": [
      "\u001b[1m313/313\u001b[0m \u001b[32m━━━━━━━━━━━━━━━━━━━━\u001b[0m\u001b[37m\u001b[0m \u001b[1m0s\u001b[0m 431us/step - accuracy: 0.9572 - loss: 0.1339\n"
     ]
    },
    {
     "data": {
      "text/plain": [
       "[0.11423265188932419, 0.9642999768257141]"
      ]
     },
     "execution_count": 4,
     "metadata": {},
     "output_type": "execute_result"
    }
   ],
   "source": [
    "model.evaluate(x_test, y_test)"
   ]
  },
  {
   "cell_type": "code",
   "execution_count": 5,
   "metadata": {
    "colab": {
     "base_uri": "https://localhost:8080/"
    },
    "id": "hAZ-IzRPgktF",
    "outputId": "757642dc-2f65-453a-9d8e-7a47c0f96c3b"
   },
   "outputs": [
    {
     "name": "stdout",
     "output_type": "stream",
     "text": [
      "\u001b[1m313/313\u001b[0m \u001b[32m━━━━━━━━━━━━━━━━━━━━\u001b[0m\u001b[37m\u001b[0m \u001b[1m0s\u001b[0m 428us/step\n",
      "Model Accuracy on Test Set: 96.43%\n",
      "\n",
      "Classification Report:\n",
      "              precision    recall  f1-score   support\n",
      "\n",
      "           0       0.97      0.98      0.98       980\n",
      "           1       0.98      0.99      0.99      1135\n",
      "           2       0.97      0.95      0.96      1032\n",
      "           3       0.92      0.98      0.95      1010\n",
      "           4       0.95      0.97      0.96       982\n",
      "           5       0.98      0.96      0.97       892\n",
      "           6       0.97      0.98      0.97       958\n",
      "           7       0.95      0.97      0.96      1028\n",
      "           8       0.98      0.93      0.95       974\n",
      "           9       0.96      0.94      0.95      1009\n",
      "\n",
      "    accuracy                           0.96     10000\n",
      "   macro avg       0.96      0.96      0.96     10000\n",
      "weighted avg       0.96      0.96      0.96     10000\n",
      "\n",
      "\n",
      "Confusion Matrix:\n",
      "[[ 965    0    0    2    3    1    4    1    2    2]\n",
      " [   0 1120    2    3    0    1    2    6    1    0]\n",
      " [   7    3  985   11    5    0    3   12    5    1]\n",
      " [   0    3    6  986    1    4    0    7    3    0]\n",
      " [   0    0    2    1  952    0    5    2    2   18]\n",
      " [   5    0    0   19    1  852    9    2    2    2]\n",
      " [   4    3    0    1    7    4  937    0    2    0]\n",
      " [   1    3    9    6    0    1    0  999    0    9]\n",
      " [   4    1    7   24    8    5    7   11  903    4]\n",
      " [   4    5    2   14   22    3    1   11    3  944]]\n"
     ]
    }
   ],
   "source": [
    "y_pred = model.predict(x_test)\n",
    "y_pred_classes = np.argmax(y_pred, axis=1)\n",
    "y_test_classes = y_test\n",
    "\n",
    "accuracy = accuracy_score(y_test_classes, y_pred_classes)\n",
    "print(f\"Model Accuracy on Test Set: {accuracy * 100:.2f}%\")\n",
    "\n",
    "print(\"\\nClassification Report:\")\n",
    "print(classification_report(y_test_classes, y_pred_classes))\n",
    "\n",
    "print(\"\\nConfusion Matrix:\")\n",
    "print(confusion_matrix(y_test_classes, y_pred_classes))"
   ]
  },
  {
   "cell_type": "code",
   "execution_count": 6,
   "metadata": {
    "id": "XUw8P0IshirU"
   },
   "outputs": [],
   "source": [
    "import numpy as np\n",
    "import tensorflow as tf\n",
    "from tensorflow.keras.models import Sequential\n",
    "from tensorflow.keras.layers import Conv2D, MaxPooling2D, Flatten, Dense, Dropout\n",
    "from tensorflow.keras.preprocessing.image import ImageDataGenerator\n",
    "from sklearn.metrics import classification_report, accuracy_score"
   ]
  },
  {
   "cell_type": "code",
   "execution_count": 7,
   "metadata": {
    "colab": {
     "base_uri": "https://localhost:8080/"
    },
    "id": "nx3KetBLz-K-",
    "outputId": "55eac4d1-044c-4cac-f4d6-e8383cfa16b7"
   },
   "outputs": [
    {
     "name": "stdout",
     "output_type": "stream",
     "text": [
      "Downloading from https://www.kaggle.com/api/v1/datasets/download/ayuraj/asl-dataset?dataset_version_number=1...\n"
     ]
    },
    {
     "name": "stderr",
     "output_type": "stream",
     "text": [
      "100%|██████████| 56.9M/56.9M [00:04<00:00, 13.1MB/s]"
     ]
    },
    {
     "name": "stdout",
     "output_type": "stream",
     "text": [
      "Extracting files...\n"
     ]
    },
    {
     "name": "stderr",
     "output_type": "stream",
     "text": [
      "\n"
     ]
    },
    {
     "name": "stdout",
     "output_type": "stream",
     "text": [
      "Path to dataset files: /Users/tharundv/.cache/kagglehub/datasets/ayuraj/asl-dataset/versions/1\n"
     ]
    }
   ],
   "source": [
    "import kagglehub\n",
    "\n",
    "# Download latest version\n",
    "path = kagglehub.dataset_download(\"ayuraj/asl-dataset\")\n",
    "\n",
    "print(\"Path to dataset files:\", path)"
   ]
  },
  {
   "cell_type": "code",
   "execution_count": 8,
   "metadata": {
    "id": "7ynNuedBkXzn"
   },
   "outputs": [],
   "source": [
    "train_dir = f'{path}/asl_dataset/asl_dataset'\n",
    "test_dir = f'{path}/asl_dataset/asl_dataset'\n",
    "\n",
    "train_datagen = ImageDataGenerator(rescale=1.0/255.0)\n",
    "test_datagen = ImageDataGenerator(rescale=1.0/255.0)"
   ]
  },
  {
   "cell_type": "code",
   "execution_count": 9,
   "metadata": {
    "colab": {
     "base_uri": "https://localhost:8080/"
    },
    "id": "kGbGxUDzkngT",
    "outputId": "1e0e2a2c-ca6d-4fbf-8f2e-2e5c24a016f2"
   },
   "outputs": [
    {
     "name": "stdout",
     "output_type": "stream",
     "text": [
      "Found 2515 images belonging to 36 classes.\n",
      "Found 2515 images belonging to 36 classes.\n"
     ]
    }
   ],
   "source": [
    "train_data = train_datagen.flow_from_directory(\n",
    "    train_dir,\n",
    "    target_size=(64, 64),\n",
    "    batch_size=32,\n",
    "    class_mode='categorical'\n",
    ")\n",
    "\n",
    "test_data = test_datagen.flow_from_directory(\n",
    "    test_dir,\n",
    "    target_size=(64, 64),\n",
    "    batch_size=32,\n",
    "    class_mode='categorical'\n",
    ")"
   ]
  },
  {
   "cell_type": "code",
   "execution_count": 10,
   "metadata": {
    "colab": {
     "background_save": true,
     "base_uri": "https://localhost:8080/"
    },
    "id": "BAIjdnjBkweJ",
    "outputId": "2e183a3b-75fa-4d39-c0ed-6836495ae889"
   },
   "outputs": [
    {
     "name": "stdout",
     "output_type": "stream",
     "text": [
      "Epoch 1/2\n"
     ]
    },
    {
     "name": "stderr",
     "output_type": "stream",
     "text": [
      "/Users/tharundv/miniconda3/envs/myenv/lib/python3.12/site-packages/keras/src/layers/convolutional/base_conv.py:107: UserWarning: Do not pass an `input_shape`/`input_dim` argument to a layer. When using Sequential models, prefer using an `Input(shape)` object as the first layer in the model instead.\n",
      "  super().__init__(activity_regularizer=activity_regularizer, **kwargs)\n",
      "/Users/tharundv/miniconda3/envs/myenv/lib/python3.12/site-packages/keras/src/trainers/data_adapters/py_dataset_adapter.py:121: UserWarning: Your `PyDataset` class should call `super().__init__(**kwargs)` in its constructor. `**kwargs` can include `workers`, `use_multiprocessing`, `max_queue_size`. Do not pass these arguments to `fit()`, as they will be ignored.\n",
      "  self._warn_if_super_not_called()\n"
     ]
    },
    {
     "name": "stdout",
     "output_type": "stream",
     "text": [
      "\u001b[1m79/79\u001b[0m \u001b[32m━━━━━━━━━━━━━━━━━━━━\u001b[0m\u001b[37m\u001b[0m \u001b[1m5s\u001b[0m 49ms/step - accuracy: 0.1381 - loss: 3.1448 - val_accuracy: 0.7785 - val_loss: 0.7278\n",
      "Epoch 2/2\n",
      "\u001b[1m79/79\u001b[0m \u001b[32m━━━━━━━━━━━━━━━━━━━━\u001b[0m\u001b[37m\u001b[0m \u001b[1m4s\u001b[0m 50ms/step - accuracy: 0.6837 - loss: 1.0296 - val_accuracy: 0.9070 - val_loss: 0.2942\n"
     ]
    }
   ],
   "source": [
    "model = Sequential([\n",
    "    Conv2D(32, (3, 3), activation='relu', input_shape=(64, 64, 3)),\n",
    "    MaxPooling2D(pool_size=(2, 2)),\n",
    "    Conv2D(64, (3, 3), activation='relu'),\n",
    "    MaxPooling2D(pool_size=(2, 2)),\n",
    "    Conv2D(128, (3, 3), activation='relu'),\n",
    "    MaxPooling2D(pool_size=(2, 2)),\n",
    "    Flatten(),\n",
    "    Dense(128, activation='relu'),\n",
    "    Dropout(0.5),\n",
    "    Dense(train_data.num_classes, activation='softmax')\n",
    "])\n",
    "\n",
    "model.compile(optimizer='adam', loss='categorical_crossentropy', metrics=['accuracy'])\n",
    "\n",
    "history = model.fit(train_data, epochs=2, validation_data=test_data)"
   ]
  },
  {
   "cell_type": "code",
   "execution_count": 11,
   "metadata": {
    "colab": {
     "base_uri": "https://localhost:8080/"
    },
    "id": "hQZ7BADAk2PR",
    "outputId": "d5b90ee5-ed13-4acd-acac-ab6a4a3906fe"
   },
   "outputs": [
    {
     "name": "stdout",
     "output_type": "stream",
     "text": [
      "\u001b[1m79/79\u001b[0m \u001b[32m━━━━━━━━━━━━━━━━━━━━\u001b[0m\u001b[37m\u001b[0m \u001b[1m1s\u001b[0m 15ms/step - accuracy: 0.9067 - loss: 0.3005\n",
      "Test Loss: 0.2942\n",
      "Test Accuracy: 0.9070\n",
      "\u001b[1m79/79\u001b[0m \u001b[32m━━━━━━━━━━━━━━━━━━━━\u001b[0m\u001b[37m\u001b[0m \u001b[1m1s\u001b[0m 16ms/step\n",
      "Classification Report:\n",
      "              precision    recall  f1-score   support\n",
      "\n",
      "           0       0.02      0.01      0.02        70\n",
      "           1       0.00      0.00      0.00        70\n",
      "           2       0.05      0.06      0.06        70\n",
      "           3       0.01      0.01      0.01        70\n",
      "           4       0.02      0.01      0.01        70\n",
      "           5       0.03      0.03      0.03        70\n",
      "           6       0.00      0.00      0.00        70\n",
      "           7       0.01      0.01      0.01        70\n",
      "           8       0.01      0.01      0.01        70\n",
      "           9       0.06      0.06      0.06        70\n",
      "           a       0.00      0.00      0.00        70\n",
      "           b       0.00      0.00      0.00        70\n",
      "           c       0.00      0.00      0.00        70\n",
      "           d       0.04      0.04      0.04        70\n",
      "           e       0.04      0.04      0.04        70\n",
      "           f       0.01      0.01      0.01        70\n",
      "           g       0.01      0.01      0.01        70\n",
      "           h       0.06      0.06      0.06        70\n",
      "           i       0.04      0.04      0.04        70\n",
      "           j       0.01      0.01      0.01        70\n",
      "           k       0.01      0.01      0.01        70\n",
      "           l       0.03      0.03      0.03        70\n",
      "           m       0.01      0.01      0.01        70\n",
      "           n       0.03      0.03      0.03        70\n",
      "           o       0.02      0.03      0.03        70\n",
      "           p       0.01      0.01      0.01        70\n",
      "           q       0.06      0.06      0.06        70\n",
      "           r       0.02      0.01      0.02        70\n",
      "           s       0.05      0.01      0.02        70\n",
      "           t       0.04      0.05      0.04        65\n",
      "           u       0.04      0.04      0.04        70\n",
      "           v       0.03      0.03      0.03        70\n",
      "           w       0.02      0.03      0.02        70\n",
      "           x       0.01      0.01      0.01        70\n",
      "           y       0.04      0.04      0.04        70\n",
      "           z       0.03      0.03      0.03        70\n",
      "\n",
      "    accuracy                           0.02      2515\n",
      "   macro avg       0.02      0.02      0.02      2515\n",
      "weighted avg       0.02      0.02      0.02      2515\n",
      "\n",
      "Overall Accuracy: 0.0247\n"
     ]
    }
   ],
   "source": [
    "test_loss, test_accuracy = model.evaluate(test_data)\n",
    "print(f\"Test Loss: {test_loss:.4f}\")\n",
    "print(f\"Test Accuracy: {test_accuracy:.4f}\")\n",
    "\n",
    "y_true = test_data.classes\n",
    "y_pred = np.argmax(model.predict(test_data), axis=1)\n",
    "\n",
    "print(\"Classification Report:\")\n",
    "print(classification_report(y_true, y_pred, target_names=list(test_data.class_indices.keys())))\n",
    "print(f\"Overall Accuracy: {accuracy_score(y_true, y_pred):.4f}\")"
   ]
  },
  {
   "cell_type": "code",
   "execution_count": null,
   "metadata": {
    "id": "YL9QZ3bQlUsK"
   },
   "outputs": [],
   "source": [
    "import pandas as pd\n",
    "from sklearn.feature_extraction.text import TfidfVectorizer\n",
    "from sklearn.metrics.pairwise import cosine_similarity\n",
    "\n",
    "movies = [\n",
    "    {\"title\": \"Movie A\", \"description\": \"A thrilling action movie with a hero\", \"genre\": \"Action\"},\n",
    "    {\"title\": \"Movie B\", \"description\": \"A romantic comedy with a love story\", \"genre\": \"Romance\"},\n",
    "    {\"title\": \"Movie C\", \"description\": \"A sci-fi adventure with spaceships\", \"genre\": \"Sci-Fi\"},\n",
    "    {\"title\": \"Movie D\", \"description\": \"A comedy about friends\", \"genre\": \"Comedy\"},\n",
    "    {\"title\": \"Movie E\", \"description\": \"A thrilling action-packed movie\", \"genre\": \"Action\"}\n",
    "]\n",
    "\n",
    "df = pd.DataFrame(movies)"
   ]
  },
  {
   "cell_type": "code",
   "execution_count": null,
   "metadata": {
    "id": "8M1c_C3zl0H3"
   },
   "outputs": [],
   "source": [
    "tfidf = TfidfVectorizer(stop_words='english')\n",
    "tfidf_matrix = tfidf.fit_transform(df['description'])\n",
    "\n",
    "cosine_sim = cosine_similarity(tfidf_matrix, tfidf_matrix)"
   ]
  },
  {
   "cell_type": "code",
   "execution_count": null,
   "metadata": {
    "id": "WtU19PjTmDoq"
   },
   "outputs": [],
   "source": [
    "def get_recommendations(title, cosine_sim=cosine_sim):\n",
    "    idx = df.index[df['title'] == title].tolist()[0]\n",
    "\n",
    "    sim_scores = list(enumerate(cosine_sim[idx]))\n",
    "    sim_scores = sorted(sim_scores, key=lambda x: x[1], reverse=True)\n",
    "    sim_scores = sim_scores[1:4]\n",
    "\n",
    "    movie_indices = [i[0] for i in sim_scores]\n",
    "\n",
    "    return df['title'].iloc[movie_indices]"
   ]
  },
  {
   "cell_type": "code",
   "execution_count": null,
   "metadata": {
    "colab": {
     "base_uri": "https://localhost:8080/"
    },
    "id": "fMIBKN3SmIDu",
    "outputId": "5468c5e6-eba7-49f5-f304-0edf637969e9"
   },
   "outputs": [
    {
     "name": "stdout",
     "output_type": "stream",
     "text": [
      "Enter you movie name : Movie D\n",
      "Recommendations for 'Movie D':\n",
      "1    Movie B\n",
      "0    Movie A\n",
      "2    Movie C\n",
      "Name: title, dtype: object\n"
     ]
    }
   ],
   "source": [
    "movie = input(\"Enter you movie name : \")\n",
    "print(f\"Recommendations for '{movie}':\")\n",
    "print(get_recommendations(movie))"
   ]
  }
 ],
 "metadata": {
  "colab": {
   "provenance": []
  },
  "kernelspec": {
   "display_name": "myenv",
   "language": "python",
   "name": "python3"
  },
  "language_info": {
   "codemirror_mode": {
    "name": "ipython",
    "version": 3
   },
   "file_extension": ".py",
   "mimetype": "text/x-python",
   "name": "python",
   "nbconvert_exporter": "python",
   "pygments_lexer": "ipython3",
   "version": "3.12.7"
  }
 },
 "nbformat": 4,
 "nbformat_minor": 0
}
